{
 "cells": [
  {
   "cell_type": "code",
   "execution_count": 1,
   "id": "686a5e4a",
   "metadata": {},
   "outputs": [],
   "source": [
    "import pandas as pd\n",
    "import numpy as np\n",
    "import seaborn as sns\n",
    "import matplotlib.pyplot as plt"
   ]
  },
  {
   "cell_type": "code",
   "execution_count": 2,
   "id": "efa8f0e5",
   "metadata": {},
   "outputs": [
    {
     "data": {
      "text/html": [
       "<div>\n",
       "<style scoped>\n",
       "    .dataframe tbody tr th:only-of-type {\n",
       "        vertical-align: middle;\n",
       "    }\n",
       "\n",
       "    .dataframe tbody tr th {\n",
       "        vertical-align: top;\n",
       "    }\n",
       "\n",
       "    .dataframe thead th {\n",
       "        text-align: right;\n",
       "    }\n",
       "</style>\n",
       "<table border=\"1\" class=\"dataframe\">\n",
       "  <thead>\n",
       "    <tr style=\"text-align: right;\">\n",
       "      <th></th>\n",
       "      <th>restaurant name</th>\n",
       "      <th>cost</th>\n",
       "      <th>collections</th>\n",
       "      <th>cuisines</th>\n",
       "      <th>operating timings</th>\n",
       "    </tr>\n",
       "  </thead>\n",
       "  <tbody>\n",
       "    <tr>\n",
       "      <th>0</th>\n",
       "      <td>Beyond Flavours</td>\n",
       "      <td>800</td>\n",
       "      <td>Food Hygiene Rated Restaurants in Hyderabad, C...</td>\n",
       "      <td>Chinese, Continental, Kebab, European, South I...</td>\n",
       "      <td>12noon to 3:30pm, 6:30pm to 11:30pm (Mon-Sun)</td>\n",
       "    </tr>\n",
       "    <tr>\n",
       "      <th>1</th>\n",
       "      <td>Paradise</td>\n",
       "      <td>800</td>\n",
       "      <td>Hyderabad's Hottest</td>\n",
       "      <td>Biryani, North Indian, Chinese</td>\n",
       "      <td>11 AM to 11 PM</td>\n",
       "    </tr>\n",
       "    <tr>\n",
       "      <th>2</th>\n",
       "      <td>Flechazo</td>\n",
       "      <td>1300</td>\n",
       "      <td>Great Buffets, Hyderabad's Hottest</td>\n",
       "      <td>Asian, Mediterranean, North Indian, Desserts</td>\n",
       "      <td>11:30 AM to 4:30 PM, 6:30 PM to 11 PM</td>\n",
       "    </tr>\n",
       "    <tr>\n",
       "      <th>3</th>\n",
       "      <td>Shah Ghouse Hotel &amp; Restaurant</td>\n",
       "      <td>800</td>\n",
       "      <td>Late Night Restaurants</td>\n",
       "      <td>Biryani, North Indian, Chinese, Seafood, Bever...</td>\n",
       "      <td>12 Noon to 2 AM</td>\n",
       "    </tr>\n",
       "    <tr>\n",
       "      <th>4</th>\n",
       "      <td>Over The Moon Brew Company</td>\n",
       "      <td>1200</td>\n",
       "      <td>Best Bars &amp; Pubs, Food Hygiene Rated Restauran...</td>\n",
       "      <td>Asian, Continental, North Indian, Chinese, Med...</td>\n",
       "      <td>12noon to 11pm (Mon, Tue, Wed, Thu, Sun), 12no...</td>\n",
       "    </tr>\n",
       "    <tr>\n",
       "      <th>5</th>\n",
       "      <td>The Fisherman's Wharf</td>\n",
       "      <td>1500</td>\n",
       "      <td>Sunday Brunches, Corporate Favorites, Great Bu...</td>\n",
       "      <td>Seafood, Goan, North Indian, Continental, Asian</td>\n",
       "      <td>12Noon to 3:30PM, 4PM to 6:30PM, 7PM to 11:30P...</td>\n",
       "    </tr>\n",
       "    <tr>\n",
       "      <th>6</th>\n",
       "      <td>eat.fit</td>\n",
       "      <td>500</td>\n",
       "      <td>Food Hygiene Rated Restaurants in Hyderabad</td>\n",
       "      <td>Healthy Food, North Indian, Continental, South...</td>\n",
       "      <td>7 AM to 10 PM</td>\n",
       "    </tr>\n",
       "    <tr>\n",
       "      <th>7</th>\n",
       "      <td>Shah Ghouse Spl Shawarma</td>\n",
       "      <td>300</td>\n",
       "      <td>NaN</td>\n",
       "      <td>Lebanese</td>\n",
       "      <td>12 Noon to 12 Midnight</td>\n",
       "    </tr>\n",
       "    <tr>\n",
       "      <th>8</th>\n",
       "      <td>Hyper Local</td>\n",
       "      <td>1000</td>\n",
       "      <td>Great Buffets, Live Sports Screenings, Best Ba...</td>\n",
       "      <td>American, Chinese, North Indian, Kebab, South ...</td>\n",
       "      <td>12 Noon to 12 Midnight</td>\n",
       "    </tr>\n",
       "    <tr>\n",
       "      <th>9</th>\n",
       "      <td>Cream Stone</td>\n",
       "      <td>350</td>\n",
       "      <td>Frozen Delights</td>\n",
       "      <td>Ice Cream, Desserts</td>\n",
       "      <td>10 AM to 1 AM (Mon-Thu), 10 AM to 1:30 AM (Fri...</td>\n",
       "    </tr>\n",
       "  </tbody>\n",
       "</table>\n",
       "</div>"
      ],
      "text/plain": [
       "                  restaurant name  cost  \\\n",
       "0                 Beyond Flavours   800   \n",
       "1                        Paradise   800   \n",
       "2                        Flechazo  1300   \n",
       "3  Shah Ghouse Hotel & Restaurant   800   \n",
       "4      Over The Moon Brew Company  1200   \n",
       "5           The Fisherman's Wharf  1500   \n",
       "6                         eat.fit   500   \n",
       "7        Shah Ghouse Spl Shawarma   300   \n",
       "8                     Hyper Local  1000   \n",
       "9                     Cream Stone   350   \n",
       "\n",
       "                                         collections  \\\n",
       "0  Food Hygiene Rated Restaurants in Hyderabad, C...   \n",
       "1                                Hyderabad's Hottest   \n",
       "2                 Great Buffets, Hyderabad's Hottest   \n",
       "3                             Late Night Restaurants   \n",
       "4  Best Bars & Pubs, Food Hygiene Rated Restauran...   \n",
       "5  Sunday Brunches, Corporate Favorites, Great Bu...   \n",
       "6        Food Hygiene Rated Restaurants in Hyderabad   \n",
       "7                                                NaN   \n",
       "8  Great Buffets, Live Sports Screenings, Best Ba...   \n",
       "9                                    Frozen Delights   \n",
       "\n",
       "                                            cuisines  \\\n",
       "0  Chinese, Continental, Kebab, European, South I...   \n",
       "1                     Biryani, North Indian, Chinese   \n",
       "2       Asian, Mediterranean, North Indian, Desserts   \n",
       "3  Biryani, North Indian, Chinese, Seafood, Bever...   \n",
       "4  Asian, Continental, North Indian, Chinese, Med...   \n",
       "5    Seafood, Goan, North Indian, Continental, Asian   \n",
       "6  Healthy Food, North Indian, Continental, South...   \n",
       "7                                           Lebanese   \n",
       "8  American, Chinese, North Indian, Kebab, South ...   \n",
       "9                                Ice Cream, Desserts   \n",
       "\n",
       "                                   operating timings  \n",
       "0      12noon to 3:30pm, 6:30pm to 11:30pm (Mon-Sun)  \n",
       "1                                     11 AM to 11 PM  \n",
       "2              11:30 AM to 4:30 PM, 6:30 PM to 11 PM  \n",
       "3                                    12 Noon to 2 AM  \n",
       "4  12noon to 11pm (Mon, Tue, Wed, Thu, Sun), 12no...  \n",
       "5  12Noon to 3:30PM, 4PM to 6:30PM, 7PM to 11:30P...  \n",
       "6                                      7 AM to 10 PM  \n",
       "7                             12 Noon to 12 Midnight  \n",
       "8                             12 Noon to 12 Midnight  \n",
       "9  10 AM to 1 AM (Mon-Thu), 10 AM to 1:30 AM (Fri...  "
      ]
     },
     "execution_count": 2,
     "metadata": {},
     "output_type": "execute_result"
    }
   ],
   "source": [
    "df = pd.read_csv(\"dataset-1.csv\")\n",
    "df.head(10)"
   ]
  },
  {
   "cell_type": "code",
   "execution_count": 3,
   "id": "5d5fdc85",
   "metadata": {},
   "outputs": [
    {
     "name": "stdout",
     "output_type": "stream",
     "text": [
      "<class 'pandas.core.frame.DataFrame'>\n",
      "RangeIndex: 105 entries, 0 to 104\n",
      "Data columns (total 5 columns):\n",
      " #   Column             Non-Null Count  Dtype \n",
      "---  ------             --------------  ----- \n",
      " 0   restaurant name    105 non-null    object\n",
      " 1   cost               105 non-null    int64 \n",
      " 2   collections        51 non-null     object\n",
      " 3   cuisines           105 non-null    object\n",
      " 4   operating timings  104 non-null    object\n",
      "dtypes: int64(1), object(4)\n",
      "memory usage: 4.2+ KB\n"
     ]
    }
   ],
   "source": [
    "df.info()"
   ]
  },
  {
   "cell_type": "code",
   "execution_count": 4,
   "id": "1819209a",
   "metadata": {},
   "outputs": [],
   "source": [
    "df1 = df.copy()"
   ]
  },
  {
   "cell_type": "code",
   "execution_count": 5,
   "id": "7056e7e5",
   "metadata": {},
   "outputs": [
    {
     "data": {
      "text/plain": [
       "Index(['restaurant name', 'cost', 'collections', 'cuisines',\n",
       "       'operating timings'],\n",
       "      dtype='object')"
      ]
     },
     "execution_count": 5,
     "metadata": {},
     "output_type": "execute_result"
    }
   ],
   "source": [
    "df.columns"
   ]
  },
  {
   "cell_type": "code",
   "execution_count": 6,
   "id": "c36e182d",
   "metadata": {},
   "outputs": [],
   "source": [
    "df['collections'] = df['collections'].bfill()"
   ]
  },
  {
   "cell_type": "code",
   "execution_count": 7,
   "id": "8047907a",
   "metadata": {},
   "outputs": [],
   "source": [
    "df['operating timings'] = df['operating timings'].bfill()"
   ]
  },
  {
   "cell_type": "code",
   "execution_count": 8,
   "id": "500a7612",
   "metadata": {},
   "outputs": [
    {
     "data": {
      "text/plain": [
       "restaurant name      0\n",
       "cost                 0\n",
       "collections          0\n",
       "cuisines             0\n",
       "operating timings    0\n",
       "dtype: int64"
      ]
     },
     "execution_count": 8,
     "metadata": {},
     "output_type": "execute_result"
    }
   ],
   "source": [
    "df.isnull().sum()"
   ]
  },
  {
   "cell_type": "code",
   "execution_count": 9,
   "id": "863d3dbc",
   "metadata": {},
   "outputs": [],
   "source": [
    "df.rename(columns={\"restaurant name\":\"restaurant_name\"},inplace=True)"
   ]
  },
  {
   "cell_type": "code",
   "execution_count": 10,
   "id": "ffe6bde4",
   "metadata": {},
   "outputs": [],
   "source": [
    "df.rename(columns={\"operating timings\":\"operating_timings\"},inplace=True)"
   ]
  },
  {
   "cell_type": "code",
   "execution_count": 11,
   "id": "95bfd75b",
   "metadata": {},
   "outputs": [
    {
     "data": {
      "text/plain": [
       "Index(['restaurant_name', 'cost', 'collections', 'cuisines',\n",
       "       'operating_timings'],\n",
       "      dtype='object')"
      ]
     },
     "execution_count": 11,
     "metadata": {},
     "output_type": "execute_result"
    }
   ],
   "source": [
    "df.columns"
   ]
  },
  {
   "cell_type": "code",
   "execution_count": 12,
   "id": "c14e8dad",
   "metadata": {},
   "outputs": [],
   "source": [
    "cost = df[['restaurant_name' , 'cost']]"
   ]
  },
  {
   "cell_type": "code",
   "execution_count": 13,
   "id": "ae32fd95",
   "metadata": {},
   "outputs": [
    {
     "data": {
      "text/plain": [
       "restaurant_name    0\n",
       "cost               0\n",
       "dtype: int64"
      ]
     },
     "execution_count": 13,
     "metadata": {},
     "output_type": "execute_result"
    }
   ],
   "source": [
    "cost.isna().sum()"
   ]
  },
  {
   "cell_type": "markdown",
   "id": "d2972f68",
   "metadata": {},
   "source": [
    "# check the number of unique values in each column\n"
   ]
  },
  {
   "cell_type": "code",
   "execution_count": 16,
   "id": "acaa51fe",
   "metadata": {},
   "outputs": [
    {
     "ename": "AttributeError",
     "evalue": "'DataFrame' object has no attribute 'unique_values'",
     "output_type": "error",
     "traceback": [
      "\u001b[1;31m---------------------------------------------------------------------------\u001b[0m",
      "\u001b[1;31mAttributeError\u001b[0m                            Traceback (most recent call last)",
      "Input \u001b[1;32mIn [16]\u001b[0m, in \u001b[0;36m<cell line: 1>\u001b[1;34m()\u001b[0m\n\u001b[1;32m----> 1\u001b[0m distinct_values \u001b[38;5;241m=\u001b[39m \u001b[43mdf\u001b[49m\u001b[38;5;241;43m.\u001b[39;49m\u001b[43munique_values\u001b[49m\u001b[38;5;241m.\u001b[39mreset_index()\n\u001b[0;32m      2\u001b[0m distinct_values\u001b[38;5;241m.\u001b[39mcolumns \u001b[38;5;241m=\u001b[39m [\u001b[38;5;124m'\u001b[39m\u001b[38;5;124mvariable\u001b[39m\u001b[38;5;124m'\u001b[39m , \u001b[38;5;124m'\u001b[39m\u001b[38;5;124mdistinct_value_count\u001b[39m\u001b[38;5;124m'\u001b[39m]\n\u001b[0;32m      3\u001b[0m plt\u001b[38;5;241m.\u001b[39mfigure(figsize\u001b[38;5;241m=\u001b[39m[\u001b[38;5;241m12\u001b[39m,\u001b[38;5;241m6\u001b[39m])\n",
      "File \u001b[1;32m~\\AppData\\Local\\Programs\\Python\\Python39\\lib\\site-packages\\pandas\\core\\generic.py:5575\u001b[0m, in \u001b[0;36mNDFrame.__getattr__\u001b[1;34m(self, name)\u001b[0m\n\u001b[0;32m   5568\u001b[0m \u001b[38;5;28;01mif\u001b[39;00m (\n\u001b[0;32m   5569\u001b[0m     name \u001b[38;5;129;01mnot\u001b[39;00m \u001b[38;5;129;01min\u001b[39;00m \u001b[38;5;28mself\u001b[39m\u001b[38;5;241m.\u001b[39m_internal_names_set\n\u001b[0;32m   5570\u001b[0m     \u001b[38;5;129;01mand\u001b[39;00m name \u001b[38;5;129;01mnot\u001b[39;00m \u001b[38;5;129;01min\u001b[39;00m \u001b[38;5;28mself\u001b[39m\u001b[38;5;241m.\u001b[39m_metadata\n\u001b[0;32m   5571\u001b[0m     \u001b[38;5;129;01mand\u001b[39;00m name \u001b[38;5;129;01mnot\u001b[39;00m \u001b[38;5;129;01min\u001b[39;00m \u001b[38;5;28mself\u001b[39m\u001b[38;5;241m.\u001b[39m_accessors\n\u001b[0;32m   5572\u001b[0m     \u001b[38;5;129;01mand\u001b[39;00m \u001b[38;5;28mself\u001b[39m\u001b[38;5;241m.\u001b[39m_info_axis\u001b[38;5;241m.\u001b[39m_can_hold_identifiers_and_holds_name(name)\n\u001b[0;32m   5573\u001b[0m ):\n\u001b[0;32m   5574\u001b[0m     \u001b[38;5;28;01mreturn\u001b[39;00m \u001b[38;5;28mself\u001b[39m[name]\n\u001b[1;32m-> 5575\u001b[0m \u001b[38;5;28;01mreturn\u001b[39;00m \u001b[38;5;28;43mobject\u001b[39;49m\u001b[38;5;241;43m.\u001b[39;49m\u001b[38;5;21;43m__getattribute__\u001b[39;49m\u001b[43m(\u001b[49m\u001b[38;5;28;43mself\u001b[39;49m\u001b[43m,\u001b[49m\u001b[43m \u001b[49m\u001b[43mname\u001b[49m\u001b[43m)\u001b[49m\n",
      "\u001b[1;31mAttributeError\u001b[0m: 'DataFrame' object has no attribute 'unique_values'"
     ]
    }
   ],
   "source": [
    "distinct_values = df.unique_values().reset_index()\n",
    "distinct_values.columns = ['variable' , 'distinct_value_count']\n",
    "plt.figure(figsize=[12,6])\n",
    "ax = sns.barplot(y='variable' , x = 'distinct_value_count', data=distinct_values , orient ='h')\n",
    "plt.xlabel('Number of Unique Values')\n",
    "plt.ylabel('')\n",
    "\n"
   ]
  },
  {
   "cell_type": "code",
   "execution_count": 25,
   "id": "f9c2ff82",
   "metadata": {},
   "outputs": [
    {
     "data": {
      "text/plain": [
       "<AxesSubplot:xlabel='restaurant_name', ylabel='cost'>"
      ]
     },
     "execution_count": 25,
     "metadata": {},
     "output_type": "execute_result"
    },
    {
     "data": {
      "image/png": "[encoded data removed]",
      "text/plain": [
       "<Figure size 432x288 with 1 Axes>"
      ]
     },
     "metadata": {
      "needs_background": "light"
     },
     "output_type": "display_data"
    }
   ],
   "source": [
    "sns.barplot(x = 'restaurant_name' , y = 'cost' , data=df)"
   ]
  },
  {
   "cell_type": "code",
   "execution_count": null,
   "id": "5b5c4aad",
   "metadata": {},
   "outputs": [],
   "source": []
  },
  {
   "cell_type": "code",
   "execution_count": null,
   "id": "cf37ab19",
   "metadata": {},
   "outputs": [],
   "source": []
  }
 ],
 "metadata": {
  "kernelspec": {
   "display_name": "Python 3 (ipykernel)",
   "language": "python",
   "name": "python3"
  },
  "language_info": {
   "codemirror_mode": {
    "name": "ipython",
    "version": 3
   },
   "file_extension": ".py",
   "mimetype": "text/x-python",
   "name": "python",
   "nbconvert_exporter": "python",
   "pygments_lexer": "ipython3",
   "version": "3.9.13"
  }
 },
 "nbformat": 4,
 "nbformat_minor": 5
}
